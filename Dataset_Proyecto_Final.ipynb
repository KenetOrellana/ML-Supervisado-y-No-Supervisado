{
 "cells": [
  {
   "cell_type": "code",
   "execution_count": 105,
   "id": "1951fe93-346d-4927-b74c-3b0324b3a675",
   "metadata": {},
   "outputs": [],
   "source": [
    "import pandas as pd\n",
    "import numpy as np\n",
    "import matplotlib.pyplot as plt\n",
    "import seaborn as sns\n",
    "import pylab\n",
    "import scipy.stats as stats\n",
    "from datetime import date"
   ]
  },
  {
   "cell_type": "markdown",
   "id": "c58a853c-25f3-4d5e-aa03-8539322fdac0",
   "metadata": {
    "tags": []
   },
   "source": [
    "## Dataset Atletas Olímpicos (desde 1968 a 2022)  \n",
    "#### Proyecto Inteligencia Artificial (IS-701) | Sección 11:00  \n",
    "\n",
    "**Catedrático:** Ing. Uayeb Caballero.  \n",
    "\n",
    "*Grupo* <span style=\"color:#757331\">***Cardamomo***</span>  \n",
    "Integrantes:  \n",
    "> - Owenn Alexis Chavarría Rivera  \n",
    "N° ***20161003613***\n",
    "> - Kenet Francisco Orellana Meza  \n",
    "N° ***20141011708***\n",
    "> - Jakmeni Jasiel Quilico Valeriano  \n",
    "N° ***20161004456***\n",
    "> - Melvin Elías Cedillo Romero  \n",
    "N° ***20171005421***\n",
    "\n",
    "Fuente Dataset: https://www.kaggle.com/datasets/josephcheng123456/olympic-historical-dataset-from-olympediaorg"
   ]
  },
  {
   "cell_type": "markdown",
   "id": "9631ebeb-dc21-4c80-9520-798aebad67cf",
   "metadata": {},
   "source": [
    "### Significado de variables dentro del Dataset:  \n",
    "\n",
    "**OA** = Olympic Athlete \n",
    "\n",
    "### Contexto del Dataset: Jugadores Olímpicos\n",
    "Este conjunto de datos es un intento de crear conjuntos de datos de jugadores olímpicos actualizados (desde los Juegos Olímpicos de 1986 hasta 2022) para que cualquier amante de los deportes y los datos los use para visualizar y crear algunas ideas sobre el conjunto de datos de jugadores (atletas) olímpicos. Este conjunto de datos contiene 154,902 atletas únicos y su información biológica, es decir, altura, peso y fecha de nacimiento."
   ]
  },
  {
   "cell_type": "markdown",
   "id": "7b065542-1ce7-43ca-a555-42a7738c9db5",
   "metadata": {},
   "source": [
    "### Importando el Dataset a Jupiter Notebook:"
   ]
  },
  {
   "cell_type": "code",
   "execution_count": 8,
   "id": "b614a514-5ea1-45ff-a83d-e30293e304a8",
   "metadata": {},
   "outputs": [],
   "source": [
    "OA = pd.read_csv(\"Olympic_Athlete.csv\")"
   ]
  },
  {
   "cell_type": "code",
   "execution_count": 9,
   "id": "4250666a-d3b2-4597-8fbc-cd05e1763740",
   "metadata": {},
   "outputs": [
    {
     "data": {
      "text/html": [
       "<div>\n",
       "<style scoped>\n",
       "    .dataframe tbody tr th:only-of-type {\n",
       "        vertical-align: middle;\n",
       "    }\n",
       "\n",
       "    .dataframe tbody tr th {\n",
       "        vertical-align: top;\n",
       "    }\n",
       "\n",
       "    .dataframe thead th {\n",
       "        text-align: right;\n",
       "    }\n",
       "</style>\n",
       "<table border=\"1\" class=\"dataframe\">\n",
       "  <thead>\n",
       "    <tr style=\"text-align: right;\">\n",
       "      <th></th>\n",
       "      <th>athlete_id</th>\n",
       "      <th>name</th>\n",
       "      <th>sex</th>\n",
       "      <th>born</th>\n",
       "      <th>height</th>\n",
       "      <th>weight</th>\n",
       "      <th>country</th>\n",
       "      <th>country_noc</th>\n",
       "    </tr>\n",
       "  </thead>\n",
       "  <tbody>\n",
       "    <tr>\n",
       "      <th>0</th>\n",
       "      <td>14503</td>\n",
       "      <td>scar Giraldo</td>\n",
       "      <td>Male</td>\n",
       "      <td>1973-04-13</td>\n",
       "      <td>NaN</td>\n",
       "      <td>100.0</td>\n",
       "      <td>Colombia</td>\n",
       "      <td>COL</td>\n",
       "    </tr>\n",
       "    <tr>\n",
       "      <th>1</th>\n",
       "      <td>58758</td>\n",
       "      <td>Hossein Mollaghasemi</td>\n",
       "      <td>Male</td>\n",
       "      <td>1933-03-15</td>\n",
       "      <td>173.0</td>\n",
       "      <td>63.0</td>\n",
       "      <td>Islamic Republic of Iran</td>\n",
       "      <td>IRI</td>\n",
       "    </tr>\n",
       "  </tbody>\n",
       "</table>\n",
       "</div>"
      ],
      "text/plain": [
       "   athlete_id                  name   sex        born  height  weight  \\\n",
       "0       14503          scar Giraldo  Male  1973-04-13     NaN   100.0   \n",
       "1       58758  Hossein Mollaghasemi  Male  1933-03-15   173.0    63.0   \n",
       "\n",
       "                     country country_noc  \n",
       "0                   Colombia         COL  \n",
       "1   Islamic Republic of Iran         IRI  "
      ]
     },
     "execution_count": 9,
     "metadata": {},
     "output_type": "execute_result"
    }
   ],
   "source": [
    "OA.head(2)"
   ]
  },
  {
   "cell_type": "code",
   "execution_count": 10,
   "id": "941b5d3e-500a-43d8-98b7-2e2f2a220cd3",
   "metadata": {},
   "outputs": [
    {
     "data": {
      "text/plain": [
       "athlete_id       int64\n",
       "name            object\n",
       "sex             object\n",
       "born            object\n",
       "height         float64\n",
       "weight         float64\n",
       "country         object\n",
       "country_noc     object\n",
       "dtype: object"
      ]
     },
     "execution_count": 10,
     "metadata": {},
     "output_type": "execute_result"
    }
   ],
   "source": [
    "OA.dtypes"
   ]
  },
  {
   "cell_type": "code",
   "execution_count": 11,
   "id": "5335d114-3ffb-4a12-8d8c-fc3f81f19ed9",
   "metadata": {},
   "outputs": [],
   "source": [
    "OA[\"born\"] = pd.to_datetime(OA[\"born\"])"
   ]
  },
  {
   "cell_type": "code",
   "execution_count": 12,
   "id": "af7b8de1-2356-4d75-91d7-d88036000fde",
   "metadata": {},
   "outputs": [
    {
     "data": {
      "text/plain": [
       "athlete_id              int64\n",
       "name                   object\n",
       "sex                    object\n",
       "born           datetime64[ns]\n",
       "height                float64\n",
       "weight                float64\n",
       "country                object\n",
       "country_noc            object\n",
       "dtype: object"
      ]
     },
     "execution_count": 12,
     "metadata": {},
     "output_type": "execute_result"
    }
   ],
   "source": [
    "OA.dtypes"
   ]
  },
  {
   "cell_type": "markdown",
   "id": "56edf537-2356-48d1-acbe-317bbbda518d",
   "metadata": {},
   "source": [
    "### Análisis de valores nulos:"
   ]
  },
  {
   "cell_type": "code",
   "execution_count": 13,
   "id": "1a1c2d51-f93d-4bba-a66c-4bdd92dbbbb8",
   "metadata": {},
   "outputs": [
    {
     "data": {
      "text/plain": [
       "True"
      ]
     },
     "execution_count": 13,
     "metadata": {},
     "output_type": "execute_result"
    }
   ],
   "source": [
    "OA.isnull().values.any()"
   ]
  },
  {
   "cell_type": "code",
   "execution_count": 14,
   "id": "c8c5650e-a53e-476d-af97-36368ce5b464",
   "metadata": {},
   "outputs": [
    {
     "data": {
      "text/html": [
       "<div>\n",
       "<style scoped>\n",
       "    .dataframe tbody tr th:only-of-type {\n",
       "        vertical-align: middle;\n",
       "    }\n",
       "\n",
       "    .dataframe tbody tr th {\n",
       "        vertical-align: top;\n",
       "    }\n",
       "\n",
       "    .dataframe thead th {\n",
       "        text-align: right;\n",
       "    }\n",
       "</style>\n",
       "<table border=\"1\" class=\"dataframe\">\n",
       "  <thead>\n",
       "    <tr style=\"text-align: right;\">\n",
       "      <th></th>\n",
       "      <th>athlete_id</th>\n",
       "      <th>name</th>\n",
       "      <th>sex</th>\n",
       "      <th>born</th>\n",
       "      <th>height</th>\n",
       "      <th>weight</th>\n",
       "      <th>country</th>\n",
       "      <th>country_noc</th>\n",
       "    </tr>\n",
       "  </thead>\n",
       "  <tbody>\n",
       "    <tr>\n",
       "      <th>0</th>\n",
       "      <td>False</td>\n",
       "      <td>False</td>\n",
       "      <td>False</td>\n",
       "      <td>False</td>\n",
       "      <td>True</td>\n",
       "      <td>False</td>\n",
       "      <td>False</td>\n",
       "      <td>False</td>\n",
       "    </tr>\n",
       "    <tr>\n",
       "      <th>1</th>\n",
       "      <td>False</td>\n",
       "      <td>False</td>\n",
       "      <td>False</td>\n",
       "      <td>False</td>\n",
       "      <td>False</td>\n",
       "      <td>False</td>\n",
       "      <td>False</td>\n",
       "      <td>False</td>\n",
       "    </tr>\n",
       "    <tr>\n",
       "      <th>2</th>\n",
       "      <td>False</td>\n",
       "      <td>False</td>\n",
       "      <td>False</td>\n",
       "      <td>False</td>\n",
       "      <td>False</td>\n",
       "      <td>False</td>\n",
       "      <td>False</td>\n",
       "      <td>False</td>\n",
       "    </tr>\n",
       "    <tr>\n",
       "      <th>3</th>\n",
       "      <td>False</td>\n",
       "      <td>False</td>\n",
       "      <td>False</td>\n",
       "      <td>False</td>\n",
       "      <td>False</td>\n",
       "      <td>False</td>\n",
       "      <td>False</td>\n",
       "      <td>False</td>\n",
       "    </tr>\n",
       "    <tr>\n",
       "      <th>4</th>\n",
       "      <td>False</td>\n",
       "      <td>False</td>\n",
       "      <td>False</td>\n",
       "      <td>False</td>\n",
       "      <td>False</td>\n",
       "      <td>False</td>\n",
       "      <td>False</td>\n",
       "      <td>False</td>\n",
       "    </tr>\n",
       "  </tbody>\n",
       "</table>\n",
       "</div>"
      ],
      "text/plain": [
       "   athlete_id   name    sex   born  height  weight  country  country_noc\n",
       "0       False  False  False  False    True   False    False        False\n",
       "1       False  False  False  False   False   False    False        False\n",
       "2       False  False  False  False   False   False    False        False\n",
       "3       False  False  False  False   False   False    False        False\n",
       "4       False  False  False  False   False   False    False        False"
      ]
     },
     "execution_count": 14,
     "metadata": {},
     "output_type": "execute_result"
    }
   ],
   "source": [
    "OA.isnull().head(5)"
   ]
  },
  {
   "cell_type": "markdown",
   "id": "9c49f6ab-d0d7-4948-be18-ba5a1fc70ee8",
   "metadata": {},
   "source": [
    "#### Análisis de columnas para comprobar si hay o no valores nulos (NaN):"
   ]
  },
  {
   "cell_type": "code",
   "execution_count": 15,
   "id": "f6cc71a0-6aea-4394-9493-228da44fcb75",
   "metadata": {},
   "outputs": [
    {
     "data": {
      "text/plain": [
       "athlete_id     False\n",
       "name           False\n",
       "sex            False\n",
       "born            True\n",
       "height          True\n",
       "weight         False\n",
       "country        False\n",
       "country_noc    False\n",
       "dtype: bool"
      ]
     },
     "execution_count": 15,
     "metadata": {},
     "output_type": "execute_result"
    }
   ],
   "source": [
    "OA.isnull().any()"
   ]
  },
  {
   "cell_type": "code",
   "execution_count": 16,
   "id": "7c798655-5ae1-4d9e-9d5e-2d32358afde7",
   "metadata": {},
   "outputs": [
    {
     "data": {
      "text/plain": [
       "athlete_id         0\n",
       "name               0\n",
       "sex                0\n",
       "born            4467\n",
       "height         50420\n",
       "weight             0\n",
       "country            0\n",
       "country_noc        0\n",
       "dtype: int64"
      ]
     },
     "execution_count": 16,
     "metadata": {},
     "output_type": "execute_result"
    }
   ],
   "source": [
    "OA.isnull().sum()"
   ]
  },
  {
   "cell_type": "markdown",
   "id": "d10cc24f-d0b8-4924-9854-6953ad4edc1f",
   "metadata": {},
   "source": [
    "#### Funciones de Ventana"
   ]
  },
  {
   "cell_type": "code",
   "execution_count": 17,
   "id": "ebfc183d-5125-4d9c-aaf2-4f75e8eb0c09",
   "metadata": {},
   "outputs": [
    {
     "data": {
      "text/plain": [
       "0    COL\n",
       "1    IRI\n",
       "2    ITA\n",
       "3    PNG\n",
       "4    GEO\n",
       "Name: country_noc, dtype: object"
      ]
     },
     "execution_count": 17,
     "metadata": {},
     "output_type": "execute_result"
    }
   ],
   "source": [
    "OA[\"country_noc\"].drop_duplicates().head(5)"
   ]
  },
  {
   "cell_type": "markdown",
   "id": "6b28bf0b-e246-4690-bff2-6f456384d7bb",
   "metadata": {},
   "source": [
    "#### Quitando valores nulos "
   ]
  },
  {
   "cell_type": "code",
   "execution_count": 18,
   "id": "4aa25540-ae0f-4b4d-9b7e-4800df06a367",
   "metadata": {},
   "outputs": [],
   "source": [
    "OA = OA.dropna()"
   ]
  },
  {
   "cell_type": "code",
   "execution_count": 19,
   "id": "76f5bd62-cc3b-475b-a4ae-1e08583bdb03",
   "metadata": {},
   "outputs": [
    {
     "data": {
      "text/html": [
       "<div>\n",
       "<style scoped>\n",
       "    .dataframe tbody tr th:only-of-type {\n",
       "        vertical-align: middle;\n",
       "    }\n",
       "\n",
       "    .dataframe tbody tr th {\n",
       "        vertical-align: top;\n",
       "    }\n",
       "\n",
       "    .dataframe thead th {\n",
       "        text-align: right;\n",
       "    }\n",
       "</style>\n",
       "<table border=\"1\" class=\"dataframe\">\n",
       "  <thead>\n",
       "    <tr style=\"text-align: right;\">\n",
       "      <th></th>\n",
       "      <th>athlete_id</th>\n",
       "      <th>name</th>\n",
       "      <th>sex</th>\n",
       "      <th>born</th>\n",
       "      <th>height</th>\n",
       "      <th>weight</th>\n",
       "      <th>country</th>\n",
       "      <th>country_noc</th>\n",
       "    </tr>\n",
       "  </thead>\n",
       "  <tbody>\n",
       "    <tr>\n",
       "      <th>1</th>\n",
       "      <td>58758</td>\n",
       "      <td>Hossein Mollaghasemi</td>\n",
       "      <td>Male</td>\n",
       "      <td>1933-03-15</td>\n",
       "      <td>173.0</td>\n",
       "      <td>63.0</td>\n",
       "      <td>Islamic Republic of Iran</td>\n",
       "      <td>IRI</td>\n",
       "    </tr>\n",
       "    <tr>\n",
       "      <th>2</th>\n",
       "      <td>90217</td>\n",
       "      <td>Enrico Lazzarotto</td>\n",
       "      <td>Male</td>\n",
       "      <td>1973-01-14</td>\n",
       "      <td>178.0</td>\n",
       "      <td>72.0</td>\n",
       "      <td>Italy</td>\n",
       "      <td>ITA</td>\n",
       "    </tr>\n",
       "  </tbody>\n",
       "</table>\n",
       "</div>"
      ],
      "text/plain": [
       "   athlete_id                  name   sex       born  height  weight  \\\n",
       "1       58758  Hossein Mollaghasemi  Male 1933-03-15   173.0    63.0   \n",
       "2       90217     Enrico Lazzarotto  Male 1973-01-14   178.0    72.0   \n",
       "\n",
       "                     country country_noc  \n",
       "1   Islamic Republic of Iran         IRI  \n",
       "2                      Italy         ITA  "
      ]
     },
     "execution_count": 19,
     "metadata": {},
     "output_type": "execute_result"
    }
   ],
   "source": [
    "OA.head(2)"
   ]
  },
  {
   "cell_type": "markdown",
   "id": "4642de15-8ab8-4b9d-aa77-8de423e01f9e",
   "metadata": {},
   "source": [
    "#### Estadísticas descriptivas del Dataset:"
   ]
  },
  {
   "cell_type": "code",
   "execution_count": 20,
   "id": "caac2779-7b6e-4da8-8a64-436a7487bf0b",
   "metadata": {},
   "outputs": [
    {
     "data": {
      "text/html": [
       "<div>\n",
       "<style scoped>\n",
       "    .dataframe tbody tr th:only-of-type {\n",
       "        vertical-align: middle;\n",
       "    }\n",
       "\n",
       "    .dataframe tbody tr th {\n",
       "        vertical-align: top;\n",
       "    }\n",
       "\n",
       "    .dataframe thead th {\n",
       "        text-align: right;\n",
       "    }\n",
       "</style>\n",
       "<table border=\"1\" class=\"dataframe\">\n",
       "  <thead>\n",
       "    <tr style=\"text-align: right;\">\n",
       "      <th></th>\n",
       "      <th>athlete_id</th>\n",
       "      <th>height</th>\n",
       "      <th>weight</th>\n",
       "    </tr>\n",
       "  </thead>\n",
       "  <tbody>\n",
       "    <tr>\n",
       "      <th>count</th>\n",
       "      <td>1.043700e+05</td>\n",
       "      <td>104370.000000</td>\n",
       "      <td>104370.000000</td>\n",
       "    </tr>\n",
       "    <tr>\n",
       "      <th>mean</th>\n",
       "      <td>9.605097e+04</td>\n",
       "      <td>176.323014</td>\n",
       "      <td>71.496733</td>\n",
       "    </tr>\n",
       "    <tr>\n",
       "      <th>std</th>\n",
       "      <td>1.663394e+05</td>\n",
       "      <td>10.362989</td>\n",
       "      <td>13.293572</td>\n",
       "    </tr>\n",
       "    <tr>\n",
       "      <th>min</th>\n",
       "      <td>2.000000e+00</td>\n",
       "      <td>127.000000</td>\n",
       "      <td>21.000000</td>\n",
       "    </tr>\n",
       "    <tr>\n",
       "      <th>25%</th>\n",
       "      <td>4.244725e+04</td>\n",
       "      <td>170.000000</td>\n",
       "      <td>62.000000</td>\n",
       "    </tr>\n",
       "    <tr>\n",
       "      <th>50%</th>\n",
       "      <td>8.104850e+04</td>\n",
       "      <td>176.000000</td>\n",
       "      <td>70.000000</td>\n",
       "    </tr>\n",
       "    <tr>\n",
       "      <th>75%</th>\n",
       "      <td>1.126068e+05</td>\n",
       "      <td>183.000000</td>\n",
       "      <td>80.000000</td>\n",
       "    </tr>\n",
       "    <tr>\n",
       "      <th>max</th>\n",
       "      <td>2.506239e+06</td>\n",
       "      <td>226.000000</td>\n",
       "      <td>100.000000</td>\n",
       "    </tr>\n",
       "  </tbody>\n",
       "</table>\n",
       "</div>"
      ],
      "text/plain": [
       "         athlete_id         height         weight\n",
       "count  1.043700e+05  104370.000000  104370.000000\n",
       "mean   9.605097e+04     176.323014      71.496733\n",
       "std    1.663394e+05      10.362989      13.293572\n",
       "min    2.000000e+00     127.000000      21.000000\n",
       "25%    4.244725e+04     170.000000      62.000000\n",
       "50%    8.104850e+04     176.000000      70.000000\n",
       "75%    1.126068e+05     183.000000      80.000000\n",
       "max    2.506239e+06     226.000000     100.000000"
      ]
     },
     "execution_count": 20,
     "metadata": {},
     "output_type": "execute_result"
    }
   ],
   "source": [
    "OA.describe()"
   ]
  },
  {
   "cell_type": "markdown",
   "id": "c5a6bf7e-ed1d-4c9f-a991-69ff53d9002f",
   "metadata": {},
   "source": [
    "### Análisis de valores atípicos"
   ]
  },
  {
   "cell_type": "code",
   "execution_count": 21,
   "id": "7e3d30ab-d4f5-44c1-9da1-43d6cf4ff466",
   "metadata": {},
   "outputs": [
    {
     "data": {
      "image/png": "[encoded data removed]",
      "text/plain": [
       "<Figure size 432x288 with 1 Axes>"
      ]
     },
     "metadata": {
      "needs_background": "light"
     },
     "output_type": "display_data"
    }
   ],
   "source": [
    "sns.boxplot( data=OA  , x=\"sex\" , y=\"weight\" )\n",
    "plt.show()"
   ]
  },
  {
   "cell_type": "markdown",
   "id": "9905853d-0a09-4486-b102-286672495f4a",
   "metadata": {},
   "source": [
    "### Para visualizar los cambios seleccionaremos 3 países:"
   ]
  },
  {
   "cell_type": "code",
   "execution_count": 22,
   "id": "9ab3c73d-b310-4cca-9bb1-f4d318f3a8f1",
   "metadata": {},
   "outputs": [],
   "source": [
    "men = OA.loc[(OA[\"sex\"] == \"Male\") & (OA[\"country_noc\"].isin([\"MEX\", \"ITA\", \"ESP\"])) , :]"
   ]
  },
  {
   "cell_type": "code",
   "execution_count": 23,
   "id": "66a86f26-7b44-4a9b-9a43-1eae4be25d9d",
   "metadata": {},
   "outputs": [
    {
     "data": {
      "image/png": "[encoded data removed]",
      "text/plain": [
       "<Figure size 432x288 with 1 Axes>"
      ]
     },
     "metadata": {
      "needs_background": "light"
     },
     "output_type": "display_data"
    }
   ],
   "source": [
    "sns.boxplot( data=men  , x=\"country_noc\" , y=\"weight\" )\n",
    "plt.show()"
   ]
  },
  {
   "cell_type": "code",
   "execution_count": 24,
   "id": "133d2fea-1a8c-4a44-afa6-3f9fdb0faeeb",
   "metadata": {},
   "outputs": [
    {
     "data": {
      "image/png": "[encoded data removed]",
      "text/plain": [
       "<Figure size 432x288 with 1 Axes>"
      ]
     },
     "metadata": {
      "needs_background": "light"
     },
     "output_type": "display_data"
    }
   ],
   "source": [
    "sns.boxplot( data=men  , x=\"country_noc\" , y=\"height\" )\n",
    "plt.show()"
   ]
  },
  {
   "cell_type": "code",
   "execution_count": 25,
   "id": "593e6804-6c3d-4375-a4ab-fbb3672af74c",
   "metadata": {},
   "outputs": [],
   "source": [
    "women = OA.loc[(OA[\"sex\"] == \"Female\") & (OA[\"country_noc\"].isin([\"MEX\", \"ITA\", \"ESP\"])) , :]"
   ]
  },
  {
   "cell_type": "code",
   "execution_count": 26,
   "id": "d11414e8-8fd9-4a6e-b8ce-e095437ee41a",
   "metadata": {},
   "outputs": [
    {
     "data": {
      "image/png": "[encoded data removed]",
      "text/plain": [
       "<Figure size 432x288 with 1 Axes>"
      ]
     },
     "metadata": {
      "needs_background": "light"
     },
     "output_type": "display_data"
    }
   ],
   "source": [
    "sns.boxplot( data=women  , x=\"country_noc\" , y=\"height\" )\n",
    "plt.show()"
   ]
  },
  {
   "cell_type": "code",
   "execution_count": 27,
   "id": "2e8fa944-9aba-477d-8731-dc508574d651",
   "metadata": {},
   "outputs": [
    {
     "data": {
      "text/plain": [
       "<AxesSubplot:xlabel='country_noc', ylabel='weight'>"
      ]
     },
     "execution_count": 27,
     "metadata": {},
     "output_type": "execute_result"
    },
    {
     "data": {
      "image/png": "[encoded data removed]",
      "text/plain": [
       "<Figure size 432x288 with 1 Axes>"
      ]
     },
     "metadata": {
      "needs_background": "light"
     },
     "output_type": "display_data"
    }
   ],
   "source": [
    "sns.boxplot( data=women  , x=\"country_noc\" , y=\"weight\" )"
   ]
  },
  {
   "cell_type": "markdown",
   "id": "b47b5eeb-8e83-4245-89ce-b6703e8bbbed",
   "metadata": {},
   "source": [
    "**NOTA:** para limpiar los valores atipicos y debido a la diferencia en los rasgos fisicos entre hombre y mujer esta sera nuestra categoria primaria. Luego tambien separaremos a los atletas por paises ya que tambien los rasgos fisicos de las personas son caracteristicos segun su procesencia."
   ]
  },
  {
   "cell_type": "markdown",
   "id": "6fde720f-1900-4e15-bdb5-f1b6e0c50ea2",
   "metadata": {},
   "source": [
    "##### Tratando valores atipicos de el peso\n",
    "\n",
    "OAw_qn = Atletas olimpicos peso quartil n"
   ]
  },
  {
   "cell_type": "code",
   "execution_count": 28,
   "id": "911fce7b-880b-41f5-bb6b-c443de95e2cc",
   "metadata": {},
   "outputs": [],
   "source": [
    "OAw_q1 = OA.loc[: , [\"country_noc\", \"sex\", \"weight\"]].groupby([\"country_noc\", \"sex\"], as_index = False).quantile(0.25)\n",
    "OAw_q1.columns = [\"country_noc\", \"sex\", \"weight_q1\"]"
   ]
  },
  {
   "cell_type": "code",
   "execution_count": 29,
   "id": "fa2cd82c-80df-4aa1-93dd-155cd0dd8f7f",
   "metadata": {},
   "outputs": [],
   "source": [
    "OAw_q2 = OA.loc[: , [\"country_noc\", \"sex\", \"weight\"]].groupby([\"country_noc\", \"sex\"], as_index = False).mean()\n",
    "OAw_q2.columns = [\"country_noc\", \"sex\", \"weight_q2\"]"
   ]
  },
  {
   "cell_type": "code",
   "execution_count": 30,
   "id": "e3395a1b-973a-472c-a02e-a9204386a33c",
   "metadata": {},
   "outputs": [],
   "source": [
    "OAw_q3 = OA.loc[: , [\"country_noc\", \"sex\", \"weight\"]].groupby([\"country_noc\", \"sex\"], as_index = False).quantile(0.75)\n",
    "OAw_q3.columns = [\"country_noc\", \"sex\", \"weight_q3\"]"
   ]
  },
  {
   "cell_type": "markdown",
   "id": "bf93128e-b283-4193-92cb-e475a99b108a",
   "metadata": {},
   "source": [
    "Haciendo el join y calculando el inter quantile"
   ]
  },
  {
   "cell_type": "code",
   "execution_count": 31,
   "id": "6821364b-4404-4a52-8d94-81f772d3a9fb",
   "metadata": {},
   "outputs": [],
   "source": [
    "OAw_iqr = OAw_q1.merge(OAw_q2, on = [\"country_noc\", \"sex\"], how = \"inner\").merge(OAw_q3, on = [\"country_noc\", \"sex\"], how = \"inner\")"
   ]
  },
  {
   "cell_type": "code",
   "execution_count": 32,
   "id": "b3e79080-3b07-4bc3-8c67-c8ce507d0f13",
   "metadata": {},
   "outputs": [
    {
     "data": {
      "text/html": [
       "<div>\n",
       "<style scoped>\n",
       "    .dataframe tbody tr th:only-of-type {\n",
       "        vertical-align: middle;\n",
       "    }\n",
       "\n",
       "    .dataframe tbody tr th {\n",
       "        vertical-align: top;\n",
       "    }\n",
       "\n",
       "    .dataframe thead th {\n",
       "        text-align: right;\n",
       "    }\n",
       "</style>\n",
       "<table border=\"1\" class=\"dataframe\">\n",
       "  <thead>\n",
       "    <tr style=\"text-align: right;\">\n",
       "      <th></th>\n",
       "      <th>country_noc</th>\n",
       "      <th>sex</th>\n",
       "      <th>weight_q1</th>\n",
       "      <th>weight_q2</th>\n",
       "      <th>weight_q3</th>\n",
       "    </tr>\n",
       "  </thead>\n",
       "  <tbody>\n",
       "    <tr>\n",
       "      <th>0</th>\n",
       "      <td>AFG</td>\n",
       "      <td>Female</td>\n",
       "      <td>54.25</td>\n",
       "      <td>58.25</td>\n",
       "      <td>59.50</td>\n",
       "    </tr>\n",
       "    <tr>\n",
       "      <th>1</th>\n",
       "      <td>AFG</td>\n",
       "      <td>Male</td>\n",
       "      <td>57.75</td>\n",
       "      <td>67.50</td>\n",
       "      <td>74.25</td>\n",
       "    </tr>\n",
       "  </tbody>\n",
       "</table>\n",
       "</div>"
      ],
      "text/plain": [
       "  country_noc     sex  weight_q1  weight_q2  weight_q3\n",
       "0         AFG  Female      54.25      58.25      59.50\n",
       "1         AFG    Male      57.75      67.50      74.25"
      ]
     },
     "execution_count": 32,
     "metadata": {},
     "output_type": "execute_result"
    }
   ],
   "source": [
    "OAw_iqr.head(2)"
   ]
  },
  {
   "cell_type": "code",
   "execution_count": 33,
   "id": "f870e983-cff9-4599-8f6b-20d619ffbe35",
   "metadata": {},
   "outputs": [],
   "source": [
    "OAw_iqr[\"iqr\"] = OAw_iqr.apply(lambda q: q[\"weight_q3\"] - q[\"weight_q1\"], axis = 1)"
   ]
  },
  {
   "cell_type": "code",
   "execution_count": 34,
   "id": "bf33fd2d-7aa6-4d0d-bc67-c873592af2e0",
   "metadata": {},
   "outputs": [
    {
     "data": {
      "text/html": [
       "<div>\n",
       "<style scoped>\n",
       "    .dataframe tbody tr th:only-of-type {\n",
       "        vertical-align: middle;\n",
       "    }\n",
       "\n",
       "    .dataframe tbody tr th {\n",
       "        vertical-align: top;\n",
       "    }\n",
       "\n",
       "    .dataframe thead th {\n",
       "        text-align: right;\n",
       "    }\n",
       "</style>\n",
       "<table border=\"1\" class=\"dataframe\">\n",
       "  <thead>\n",
       "    <tr style=\"text-align: right;\">\n",
       "      <th></th>\n",
       "      <th>country_noc</th>\n",
       "      <th>sex</th>\n",
       "      <th>weight_q1</th>\n",
       "      <th>weight_q2</th>\n",
       "      <th>weight_q3</th>\n",
       "      <th>iqr</th>\n",
       "    </tr>\n",
       "  </thead>\n",
       "  <tbody>\n",
       "    <tr>\n",
       "      <th>0</th>\n",
       "      <td>AFG</td>\n",
       "      <td>Female</td>\n",
       "      <td>54.25</td>\n",
       "      <td>58.25</td>\n",
       "      <td>59.50</td>\n",
       "      <td>5.25</td>\n",
       "    </tr>\n",
       "    <tr>\n",
       "      <th>1</th>\n",
       "      <td>AFG</td>\n",
       "      <td>Male</td>\n",
       "      <td>57.75</td>\n",
       "      <td>67.50</td>\n",
       "      <td>74.25</td>\n",
       "      <td>16.50</td>\n",
       "    </tr>\n",
       "  </tbody>\n",
       "</table>\n",
       "</div>"
      ],
      "text/plain": [
       "  country_noc     sex  weight_q1  weight_q2  weight_q3    iqr\n",
       "0         AFG  Female      54.25      58.25      59.50   5.25\n",
       "1         AFG    Male      57.75      67.50      74.25  16.50"
      ]
     },
     "execution_count": 34,
     "metadata": {},
     "output_type": "execute_result"
    }
   ],
   "source": [
    "OAw_iqr.head(2)"
   ]
  },
  {
   "cell_type": "code",
   "execution_count": 35,
   "id": "1b5f25e0-1c24-44a9-9cee-0d15ae2fd2ec",
   "metadata": {},
   "outputs": [],
   "source": [
    "OAw_iqr[\"upper_weight\"] = OAw_iqr.apply(lambda q: q[\"weight_q3\"] + 1.5*q[\"iqr\"], axis = 1)\n",
    "OAw_iqr[\"lower_weight\"] = OAw_iqr.apply(lambda q: q[\"weight_q1\"] - 1.5*q[\"iqr\"], axis = 1)"
   ]
  },
  {
   "cell_type": "code",
   "execution_count": 36,
   "id": "a5efe05a-1581-4db3-aff1-780fedf987a4",
   "metadata": {},
   "outputs": [
    {
     "data": {
      "text/html": [
       "<div>\n",
       "<style scoped>\n",
       "    .dataframe tbody tr th:only-of-type {\n",
       "        vertical-align: middle;\n",
       "    }\n",
       "\n",
       "    .dataframe tbody tr th {\n",
       "        vertical-align: top;\n",
       "    }\n",
       "\n",
       "    .dataframe thead th {\n",
       "        text-align: right;\n",
       "    }\n",
       "</style>\n",
       "<table border=\"1\" class=\"dataframe\">\n",
       "  <thead>\n",
       "    <tr style=\"text-align: right;\">\n",
       "      <th></th>\n",
       "      <th>country_noc</th>\n",
       "      <th>sex</th>\n",
       "      <th>weight_q1</th>\n",
       "      <th>weight_q2</th>\n",
       "      <th>weight_q3</th>\n",
       "      <th>iqr</th>\n",
       "      <th>upper_weight</th>\n",
       "      <th>lower_weight</th>\n",
       "    </tr>\n",
       "  </thead>\n",
       "  <tbody>\n",
       "    <tr>\n",
       "      <th>0</th>\n",
       "      <td>AFG</td>\n",
       "      <td>Female</td>\n",
       "      <td>54.25</td>\n",
       "      <td>58.25</td>\n",
       "      <td>59.50</td>\n",
       "      <td>5.25</td>\n",
       "      <td>67.375</td>\n",
       "      <td>46.375</td>\n",
       "    </tr>\n",
       "    <tr>\n",
       "      <th>1</th>\n",
       "      <td>AFG</td>\n",
       "      <td>Male</td>\n",
       "      <td>57.75</td>\n",
       "      <td>67.50</td>\n",
       "      <td>74.25</td>\n",
       "      <td>16.50</td>\n",
       "      <td>99.000</td>\n",
       "      <td>33.000</td>\n",
       "    </tr>\n",
       "  </tbody>\n",
       "</table>\n",
       "</div>"
      ],
      "text/plain": [
       "  country_noc     sex  weight_q1  weight_q2  weight_q3    iqr  upper_weight  \\\n",
       "0         AFG  Female      54.25      58.25      59.50   5.25        67.375   \n",
       "1         AFG    Male      57.75      67.50      74.25  16.50        99.000   \n",
       "\n",
       "   lower_weight  \n",
       "0        46.375  \n",
       "1        33.000  "
      ]
     },
     "execution_count": 36,
     "metadata": {},
     "output_type": "execute_result"
    }
   ],
   "source": [
    "OAw_iqr.head(2)"
   ]
  },
  {
   "cell_type": "markdown",
   "id": "d5b91782-e966-455f-816e-66bb6f8a168d",
   "metadata": {},
   "source": [
    "Quitando las columnas no utilizadas"
   ]
  },
  {
   "cell_type": "code",
   "execution_count": 37,
   "id": "737b18e2-c71a-4466-bc7f-7c2b1faaa8f9",
   "metadata": {},
   "outputs": [],
   "source": [
    "OAw_iqr = OAw_iqr.loc[:, [\"country_noc\", \"sex\", \"upper_weight\", \"lower_weight\", \"weight_q2\"]]"
   ]
  },
  {
   "cell_type": "code",
   "execution_count": 38,
   "id": "1c2c39f8-9a49-4665-b687-772264f7d8bc",
   "metadata": {},
   "outputs": [
    {
     "data": {
      "text/html": [
       "<div>\n",
       "<style scoped>\n",
       "    .dataframe tbody tr th:only-of-type {\n",
       "        vertical-align: middle;\n",
       "    }\n",
       "\n",
       "    .dataframe tbody tr th {\n",
       "        vertical-align: top;\n",
       "    }\n",
       "\n",
       "    .dataframe thead th {\n",
       "        text-align: right;\n",
       "    }\n",
       "</style>\n",
       "<table border=\"1\" class=\"dataframe\">\n",
       "  <thead>\n",
       "    <tr style=\"text-align: right;\">\n",
       "      <th></th>\n",
       "      <th>country_noc</th>\n",
       "      <th>sex</th>\n",
       "      <th>upper_weight</th>\n",
       "      <th>lower_weight</th>\n",
       "      <th>weight_q2</th>\n",
       "    </tr>\n",
       "  </thead>\n",
       "  <tbody>\n",
       "    <tr>\n",
       "      <th>0</th>\n",
       "      <td>AFG</td>\n",
       "      <td>Female</td>\n",
       "      <td>67.375</td>\n",
       "      <td>46.375</td>\n",
       "      <td>58.25</td>\n",
       "    </tr>\n",
       "    <tr>\n",
       "      <th>1</th>\n",
       "      <td>AFG</td>\n",
       "      <td>Male</td>\n",
       "      <td>99.000</td>\n",
       "      <td>33.000</td>\n",
       "      <td>67.50</td>\n",
       "    </tr>\n",
       "  </tbody>\n",
       "</table>\n",
       "</div>"
      ],
      "text/plain": [
       "  country_noc     sex  upper_weight  lower_weight  weight_q2\n",
       "0         AFG  Female        67.375        46.375      58.25\n",
       "1         AFG    Male        99.000        33.000      67.50"
      ]
     },
     "execution_count": 38,
     "metadata": {},
     "output_type": "execute_result"
    }
   ],
   "source": [
    "OAw_iqr.head(2)"
   ]
  },
  {
   "cell_type": "code",
   "execution_count": 39,
   "id": "5ce45f58-a9d0-47d5-8a6a-d4800752dedc",
   "metadata": {},
   "outputs": [],
   "source": [
    "OA_m1 = OA.merge(OAw_iqr, on = [\"country_noc\", \"sex\"], how = \"left\")"
   ]
  },
  {
   "cell_type": "code",
   "execution_count": 40,
   "id": "48823670-dbba-496c-bef2-03f269df1952",
   "metadata": {},
   "outputs": [
    {
     "data": {
      "text/html": [
       "<div>\n",
       "<style scoped>\n",
       "    .dataframe tbody tr th:only-of-type {\n",
       "        vertical-align: middle;\n",
       "    }\n",
       "\n",
       "    .dataframe tbody tr th {\n",
       "        vertical-align: top;\n",
       "    }\n",
       "\n",
       "    .dataframe thead th {\n",
       "        text-align: right;\n",
       "    }\n",
       "</style>\n",
       "<table border=\"1\" class=\"dataframe\">\n",
       "  <thead>\n",
       "    <tr style=\"text-align: right;\">\n",
       "      <th></th>\n",
       "      <th>athlete_id</th>\n",
       "      <th>name</th>\n",
       "      <th>sex</th>\n",
       "      <th>born</th>\n",
       "      <th>height</th>\n",
       "      <th>weight</th>\n",
       "      <th>country</th>\n",
       "      <th>country_noc</th>\n",
       "      <th>upper_weight</th>\n",
       "      <th>lower_weight</th>\n",
       "      <th>weight_q2</th>\n",
       "    </tr>\n",
       "  </thead>\n",
       "  <tbody>\n",
       "    <tr>\n",
       "      <th>0</th>\n",
       "      <td>58758</td>\n",
       "      <td>Hossein Mollaghasemi</td>\n",
       "      <td>Male</td>\n",
       "      <td>1933-03-15</td>\n",
       "      <td>173.0</td>\n",
       "      <td>63.0</td>\n",
       "      <td>Islamic Republic of Iran</td>\n",
       "      <td>IRI</td>\n",
       "      <td>109.0</td>\n",
       "      <td>37.0</td>\n",
       "      <td>73.539192</td>\n",
       "    </tr>\n",
       "    <tr>\n",
       "      <th>1</th>\n",
       "      <td>90217</td>\n",
       "      <td>Enrico Lazzarotto</td>\n",
       "      <td>Male</td>\n",
       "      <td>1973-01-14</td>\n",
       "      <td>178.0</td>\n",
       "      <td>72.0</td>\n",
       "      <td>Italy</td>\n",
       "      <td>ITA</td>\n",
       "      <td>102.5</td>\n",
       "      <td>50.5</td>\n",
       "      <td>76.390435</td>\n",
       "    </tr>\n",
       "  </tbody>\n",
       "</table>\n",
       "</div>"
      ],
      "text/plain": [
       "   athlete_id                  name   sex       born  height  weight  \\\n",
       "0       58758  Hossein Mollaghasemi  Male 1933-03-15   173.0    63.0   \n",
       "1       90217     Enrico Lazzarotto  Male 1973-01-14   178.0    72.0   \n",
       "\n",
       "                     country country_noc  upper_weight  lower_weight  \\\n",
       "0   Islamic Republic of Iran         IRI         109.0          37.0   \n",
       "1                      Italy         ITA         102.5          50.5   \n",
       "\n",
       "   weight_q2  \n",
       "0  73.539192  \n",
       "1  76.390435  "
      ]
     },
     "execution_count": 40,
     "metadata": {},
     "output_type": "execute_result"
    }
   ],
   "source": [
    "OA_m1.head(2)"
   ]
  },
  {
   "cell_type": "markdown",
   "id": "effd03b2-5782-4f8f-84f1-f9ec49aaa982",
   "metadata": {},
   "source": [
    "Funcion para centrar los valores atipicos"
   ]
  },
  {
   "cell_type": "code",
   "execution_count": 41,
   "id": "19bff1d8-d709-473e-b208-3cf83498d356",
   "metadata": {},
   "outputs": [],
   "source": [
    "def getRealWeight(r):\n",
    "    if ((r[\"weight\"] <= r[\"lower_weight\"]) | (r[\"weight\"] >= r[\"upper_weight\"])):\n",
    "        return r[\"weight_q2\"]\n",
    "    else:\n",
    "        return r[\"weight\"]"
   ]
  },
  {
   "cell_type": "code",
   "execution_count": 42,
   "id": "e2f643a3-1315-4db0-b965-00ebad53f546",
   "metadata": {},
   "outputs": [],
   "source": [
    "OA_m1[\"weight\"] = OA_m1.apply(lambda r: getRealWeight(r), axis = 1)"
   ]
  },
  {
   "cell_type": "markdown",
   "id": "636c9607-1e83-482d-a074-d316ac2aaa69",
   "metadata": {},
   "source": [
    "Seleccionando columnas nesesarias "
   ]
  },
  {
   "cell_type": "code",
   "execution_count": 43,
   "id": "8cee9867-0ff0-432e-959c-1274e6a6fe6a",
   "metadata": {},
   "outputs": [],
   "source": [
    "OA_m1 = OA_m1.loc[:, [\"athlete_id\", \"name\", \"sex\", \"born\", \"weight\", \"country\", \"country_noc\"]]"
   ]
  },
  {
   "cell_type": "code",
   "execution_count": 44,
   "id": "ddd5a278-1456-4251-bca4-bf65788bf441",
   "metadata": {},
   "outputs": [
    {
     "data": {
      "text/html": [
       "<div>\n",
       "<style scoped>\n",
       "    .dataframe tbody tr th:only-of-type {\n",
       "        vertical-align: middle;\n",
       "    }\n",
       "\n",
       "    .dataframe tbody tr th {\n",
       "        vertical-align: top;\n",
       "    }\n",
       "\n",
       "    .dataframe thead th {\n",
       "        text-align: right;\n",
       "    }\n",
       "</style>\n",
       "<table border=\"1\" class=\"dataframe\">\n",
       "  <thead>\n",
       "    <tr style=\"text-align: right;\">\n",
       "      <th></th>\n",
       "      <th>athlete_id</th>\n",
       "      <th>name</th>\n",
       "      <th>sex</th>\n",
       "      <th>born</th>\n",
       "      <th>weight</th>\n",
       "      <th>country</th>\n",
       "      <th>country_noc</th>\n",
       "    </tr>\n",
       "  </thead>\n",
       "  <tbody>\n",
       "    <tr>\n",
       "      <th>0</th>\n",
       "      <td>58758</td>\n",
       "      <td>Hossein Mollaghasemi</td>\n",
       "      <td>Male</td>\n",
       "      <td>1933-03-15</td>\n",
       "      <td>63.0</td>\n",
       "      <td>Islamic Republic of Iran</td>\n",
       "      <td>IRI</td>\n",
       "    </tr>\n",
       "    <tr>\n",
       "      <th>1</th>\n",
       "      <td>90217</td>\n",
       "      <td>Enrico Lazzarotto</td>\n",
       "      <td>Male</td>\n",
       "      <td>1973-01-14</td>\n",
       "      <td>72.0</td>\n",
       "      <td>Italy</td>\n",
       "      <td>ITA</td>\n",
       "    </tr>\n",
       "  </tbody>\n",
       "</table>\n",
       "</div>"
      ],
      "text/plain": [
       "   athlete_id                  name   sex       born  weight  \\\n",
       "0       58758  Hossein Mollaghasemi  Male 1933-03-15    63.0   \n",
       "1       90217     Enrico Lazzarotto  Male 1973-01-14    72.0   \n",
       "\n",
       "                     country country_noc  \n",
       "0   Islamic Republic of Iran         IRI  \n",
       "1                      Italy         ITA  "
      ]
     },
     "execution_count": 44,
     "metadata": {},
     "output_type": "execute_result"
    }
   ],
   "source": [
    "OA_m1.head(2)"
   ]
  },
  {
   "cell_type": "markdown",
   "id": "2415c3b8-c48a-4c77-9a5c-8b820969533a",
   "metadata": {},
   "source": [
    "##### Tratando valores atipicos de el peso\n",
    "\n",
    "OAh_qn = Atletas olimpicos altura quartil n"
   ]
  },
  {
   "cell_type": "code",
   "execution_count": 45,
   "id": "713b7f64-9402-481a-a3b8-236772bbf0de",
   "metadata": {},
   "outputs": [],
   "source": [
    "OAh_q1 = OA.loc[: , [\"country_noc\", \"sex\", \"height\"]].groupby([\"country_noc\", \"sex\"], as_index = False).quantile(0.25)\n",
    "OAh_q1.columns = [\"country_noc\", \"sex\", \"height_q1\"]"
   ]
  },
  {
   "cell_type": "code",
   "execution_count": 46,
   "id": "1f64d59b-c723-4d27-af4d-73712204260a",
   "metadata": {},
   "outputs": [],
   "source": [
    "OAh_q2 = OA.loc[: , [\"country_noc\", \"sex\", \"height\"]].groupby([\"country_noc\", \"sex\"], as_index = False).mean()\n",
    "OAh_q2.columns = [\"country_noc\", \"sex\", \"height_q2\"]"
   ]
  },
  {
   "cell_type": "code",
   "execution_count": 47,
   "id": "cbd043cb-074d-4426-80d0-d070cabb5834",
   "metadata": {},
   "outputs": [],
   "source": [
    "OAh_q3 = OA.loc[: , [\"country_noc\", \"sex\", \"height\"]].groupby([\"country_noc\", \"sex\"], as_index = False).quantile(0.75)\n",
    "OAh_q3.columns = [\"country_noc\", \"sex\", \"height_q3\"]"
   ]
  },
  {
   "cell_type": "markdown",
   "id": "5b8a3ea4-144e-42f3-bd0d-aaccf4f0d61d",
   "metadata": {},
   "source": [
    "Join y calculo de inter quantile"
   ]
  },
  {
   "cell_type": "code",
   "execution_count": 48,
   "id": "89802cb2-aa0c-4556-9690-789fa3bc384f",
   "metadata": {},
   "outputs": [],
   "source": [
    "OAh_iqr = OAh_q1.merge(OAh_q2, on = [\"country_noc\", \"sex\"], how = \"inner\").merge(OAh_q3, on = [\"country_noc\", \"sex\"], how = \"inner\")"
   ]
  },
  {
   "cell_type": "code",
   "execution_count": 49,
   "id": "8c14aa1c-2609-4b05-bbfd-4e4bc199984c",
   "metadata": {},
   "outputs": [
    {
     "data": {
      "text/html": [
       "<div>\n",
       "<style scoped>\n",
       "    .dataframe tbody tr th:only-of-type {\n",
       "        vertical-align: middle;\n",
       "    }\n",
       "\n",
       "    .dataframe tbody tr th {\n",
       "        vertical-align: top;\n",
       "    }\n",
       "\n",
       "    .dataframe thead th {\n",
       "        text-align: right;\n",
       "    }\n",
       "</style>\n",
       "<table border=\"1\" class=\"dataframe\">\n",
       "  <thead>\n",
       "    <tr style=\"text-align: right;\">\n",
       "      <th></th>\n",
       "      <th>country_noc</th>\n",
       "      <th>sex</th>\n",
       "      <th>height_q1</th>\n",
       "      <th>height_q2</th>\n",
       "      <th>height_q3</th>\n",
       "    </tr>\n",
       "  </thead>\n",
       "  <tbody>\n",
       "    <tr>\n",
       "      <th>0</th>\n",
       "      <td>AFG</td>\n",
       "      <td>Female</td>\n",
       "      <td>163.75</td>\n",
       "      <td>167.500000</td>\n",
       "      <td>168.75</td>\n",
       "    </tr>\n",
       "    <tr>\n",
       "      <th>1</th>\n",
       "      <td>AFG</td>\n",
       "      <td>Male</td>\n",
       "      <td>165.75</td>\n",
       "      <td>170.416667</td>\n",
       "      <td>176.50</td>\n",
       "    </tr>\n",
       "  </tbody>\n",
       "</table>\n",
       "</div>"
      ],
      "text/plain": [
       "  country_noc     sex  height_q1   height_q2  height_q3\n",
       "0         AFG  Female     163.75  167.500000     168.75\n",
       "1         AFG    Male     165.75  170.416667     176.50"
      ]
     },
     "execution_count": 49,
     "metadata": {},
     "output_type": "execute_result"
    }
   ],
   "source": [
    "OAh_iqr.head(2)"
   ]
  },
  {
   "cell_type": "code",
   "execution_count": 50,
   "id": "b25351b1-35f0-4daa-b968-d905643a7f94",
   "metadata": {},
   "outputs": [],
   "source": [
    "OAh_iqr[\"iqr\"] = OAh_iqr.apply(lambda q: q[\"height_q3\"] - q[\"height_q1\"], axis = 1)"
   ]
  },
  {
   "cell_type": "code",
   "execution_count": 51,
   "id": "def2ccfc-e751-490d-9c96-e17cb5f09c62",
   "metadata": {},
   "outputs": [
    {
     "data": {
      "text/html": [
       "<div>\n",
       "<style scoped>\n",
       "    .dataframe tbody tr th:only-of-type {\n",
       "        vertical-align: middle;\n",
       "    }\n",
       "\n",
       "    .dataframe tbody tr th {\n",
       "        vertical-align: top;\n",
       "    }\n",
       "\n",
       "    .dataframe thead th {\n",
       "        text-align: right;\n",
       "    }\n",
       "</style>\n",
       "<table border=\"1\" class=\"dataframe\">\n",
       "  <thead>\n",
       "    <tr style=\"text-align: right;\">\n",
       "      <th></th>\n",
       "      <th>country_noc</th>\n",
       "      <th>sex</th>\n",
       "      <th>height_q1</th>\n",
       "      <th>height_q2</th>\n",
       "      <th>height_q3</th>\n",
       "      <th>iqr</th>\n",
       "    </tr>\n",
       "  </thead>\n",
       "  <tbody>\n",
       "    <tr>\n",
       "      <th>0</th>\n",
       "      <td>AFG</td>\n",
       "      <td>Female</td>\n",
       "      <td>163.75</td>\n",
       "      <td>167.500000</td>\n",
       "      <td>168.75</td>\n",
       "      <td>5.00</td>\n",
       "    </tr>\n",
       "    <tr>\n",
       "      <th>1</th>\n",
       "      <td>AFG</td>\n",
       "      <td>Male</td>\n",
       "      <td>165.75</td>\n",
       "      <td>170.416667</td>\n",
       "      <td>176.50</td>\n",
       "      <td>10.75</td>\n",
       "    </tr>\n",
       "  </tbody>\n",
       "</table>\n",
       "</div>"
      ],
      "text/plain": [
       "  country_noc     sex  height_q1   height_q2  height_q3    iqr\n",
       "0         AFG  Female     163.75  167.500000     168.75   5.00\n",
       "1         AFG    Male     165.75  170.416667     176.50  10.75"
      ]
     },
     "execution_count": 51,
     "metadata": {},
     "output_type": "execute_result"
    }
   ],
   "source": [
    "OAh_iqr.head(2)"
   ]
  },
  {
   "cell_type": "code",
   "execution_count": 52,
   "id": "007041d2-8276-4dc8-a176-a39d9186753d",
   "metadata": {},
   "outputs": [],
   "source": [
    "OAh_iqr[\"upper_height\"] = OAh_iqr.apply(lambda q: q[\"height_q3\"] + 1.5*q[\"iqr\"], axis = 1)\n",
    "OAh_iqr[\"lower_height\"] = OAh_iqr.apply(lambda q: q[\"height_q1\"] - 1.5*q[\"iqr\"], axis = 1)"
   ]
  },
  {
   "cell_type": "code",
   "execution_count": 53,
   "id": "82e02e9f-1217-403e-800b-3e44406102fd",
   "metadata": {},
   "outputs": [
    {
     "data": {
      "text/html": [
       "<div>\n",
       "<style scoped>\n",
       "    .dataframe tbody tr th:only-of-type {\n",
       "        vertical-align: middle;\n",
       "    }\n",
       "\n",
       "    .dataframe tbody tr th {\n",
       "        vertical-align: top;\n",
       "    }\n",
       "\n",
       "    .dataframe thead th {\n",
       "        text-align: right;\n",
       "    }\n",
       "</style>\n",
       "<table border=\"1\" class=\"dataframe\">\n",
       "  <thead>\n",
       "    <tr style=\"text-align: right;\">\n",
       "      <th></th>\n",
       "      <th>country_noc</th>\n",
       "      <th>sex</th>\n",
       "      <th>height_q1</th>\n",
       "      <th>height_q2</th>\n",
       "      <th>height_q3</th>\n",
       "      <th>iqr</th>\n",
       "      <th>upper_height</th>\n",
       "      <th>lower_height</th>\n",
       "    </tr>\n",
       "  </thead>\n",
       "  <tbody>\n",
       "    <tr>\n",
       "      <th>0</th>\n",
       "      <td>AFG</td>\n",
       "      <td>Female</td>\n",
       "      <td>163.75</td>\n",
       "      <td>167.500000</td>\n",
       "      <td>168.75</td>\n",
       "      <td>5.00</td>\n",
       "      <td>176.250</td>\n",
       "      <td>156.250</td>\n",
       "    </tr>\n",
       "    <tr>\n",
       "      <th>1</th>\n",
       "      <td>AFG</td>\n",
       "      <td>Male</td>\n",
       "      <td>165.75</td>\n",
       "      <td>170.416667</td>\n",
       "      <td>176.50</td>\n",
       "      <td>10.75</td>\n",
       "      <td>192.625</td>\n",
       "      <td>149.625</td>\n",
       "    </tr>\n",
       "  </tbody>\n",
       "</table>\n",
       "</div>"
      ],
      "text/plain": [
       "  country_noc     sex  height_q1   height_q2  height_q3    iqr  upper_height  \\\n",
       "0         AFG  Female     163.75  167.500000     168.75   5.00       176.250   \n",
       "1         AFG    Male     165.75  170.416667     176.50  10.75       192.625   \n",
       "\n",
       "   lower_height  \n",
       "0       156.250  \n",
       "1       149.625  "
      ]
     },
     "execution_count": 53,
     "metadata": {},
     "output_type": "execute_result"
    }
   ],
   "source": [
    "OAh_iqr.head(2)"
   ]
  },
  {
   "cell_type": "markdown",
   "id": "150d1357-81c4-4c85-b803-3bf5eb95e2ce",
   "metadata": {},
   "source": [
    "Limpiando columnas"
   ]
  },
  {
   "cell_type": "code",
   "execution_count": 54,
   "id": "d3d3a17f-ba6c-4138-b1f8-6471f997002d",
   "metadata": {},
   "outputs": [],
   "source": [
    "OAh_iqr = OAh_iqr.loc[:, [\"country_noc\", \"sex\", \"upper_height\", \"lower_height\", \"height_q2\"]]"
   ]
  },
  {
   "cell_type": "code",
   "execution_count": 55,
   "id": "8cece8f2-b905-4ab6-af76-64c0850a3149",
   "metadata": {},
   "outputs": [
    {
     "data": {
      "text/html": [
       "<div>\n",
       "<style scoped>\n",
       "    .dataframe tbody tr th:only-of-type {\n",
       "        vertical-align: middle;\n",
       "    }\n",
       "\n",
       "    .dataframe tbody tr th {\n",
       "        vertical-align: top;\n",
       "    }\n",
       "\n",
       "    .dataframe thead th {\n",
       "        text-align: right;\n",
       "    }\n",
       "</style>\n",
       "<table border=\"1\" class=\"dataframe\">\n",
       "  <thead>\n",
       "    <tr style=\"text-align: right;\">\n",
       "      <th></th>\n",
       "      <th>country_noc</th>\n",
       "      <th>sex</th>\n",
       "      <th>upper_height</th>\n",
       "      <th>lower_height</th>\n",
       "      <th>height_q2</th>\n",
       "    </tr>\n",
       "  </thead>\n",
       "  <tbody>\n",
       "    <tr>\n",
       "      <th>0</th>\n",
       "      <td>AFG</td>\n",
       "      <td>Female</td>\n",
       "      <td>176.250</td>\n",
       "      <td>156.250</td>\n",
       "      <td>167.500000</td>\n",
       "    </tr>\n",
       "    <tr>\n",
       "      <th>1</th>\n",
       "      <td>AFG</td>\n",
       "      <td>Male</td>\n",
       "      <td>192.625</td>\n",
       "      <td>149.625</td>\n",
       "      <td>170.416667</td>\n",
       "    </tr>\n",
       "  </tbody>\n",
       "</table>\n",
       "</div>"
      ],
      "text/plain": [
       "  country_noc     sex  upper_height  lower_height   height_q2\n",
       "0         AFG  Female       176.250       156.250  167.500000\n",
       "1         AFG    Male       192.625       149.625  170.416667"
      ]
     },
     "execution_count": 55,
     "metadata": {},
     "output_type": "execute_result"
    }
   ],
   "source": [
    "OAh_iqr.head(2)"
   ]
  },
  {
   "cell_type": "code",
   "execution_count": 56,
   "id": "0a666cec-0217-42e1-92e9-7773404fb371",
   "metadata": {},
   "outputs": [],
   "source": [
    "OA_m2 = OA.merge(OAh_iqr, on = [\"country_noc\", \"sex\"], how = \"left\")"
   ]
  },
  {
   "cell_type": "code",
   "execution_count": 57,
   "id": "a0cb8575-d95a-455d-bb02-905b0d17b5ca",
   "metadata": {},
   "outputs": [
    {
     "data": {
      "text/html": [
       "<div>\n",
       "<style scoped>\n",
       "    .dataframe tbody tr th:only-of-type {\n",
       "        vertical-align: middle;\n",
       "    }\n",
       "\n",
       "    .dataframe tbody tr th {\n",
       "        vertical-align: top;\n",
       "    }\n",
       "\n",
       "    .dataframe thead th {\n",
       "        text-align: right;\n",
       "    }\n",
       "</style>\n",
       "<table border=\"1\" class=\"dataframe\">\n",
       "  <thead>\n",
       "    <tr style=\"text-align: right;\">\n",
       "      <th></th>\n",
       "      <th>athlete_id</th>\n",
       "      <th>name</th>\n",
       "      <th>sex</th>\n",
       "      <th>born</th>\n",
       "      <th>height</th>\n",
       "      <th>weight</th>\n",
       "      <th>country</th>\n",
       "      <th>country_noc</th>\n",
       "      <th>upper_height</th>\n",
       "      <th>lower_height</th>\n",
       "      <th>height_q2</th>\n",
       "    </tr>\n",
       "  </thead>\n",
       "  <tbody>\n",
       "    <tr>\n",
       "      <th>0</th>\n",
       "      <td>58758</td>\n",
       "      <td>Hossein Mollaghasemi</td>\n",
       "      <td>Male</td>\n",
       "      <td>1933-03-15</td>\n",
       "      <td>173.0</td>\n",
       "      <td>63.0</td>\n",
       "      <td>Islamic Republic of Iran</td>\n",
       "      <td>IRI</td>\n",
       "      <td>200.0</td>\n",
       "      <td>152.0</td>\n",
       "      <td>176.254157</td>\n",
       "    </tr>\n",
       "    <tr>\n",
       "      <th>1</th>\n",
       "      <td>90217</td>\n",
       "      <td>Enrico Lazzarotto</td>\n",
       "      <td>Male</td>\n",
       "      <td>1973-01-14</td>\n",
       "      <td>178.0</td>\n",
       "      <td>72.0</td>\n",
       "      <td>Italy</td>\n",
       "      <td>ITA</td>\n",
       "      <td>201.5</td>\n",
       "      <td>157.5</td>\n",
       "      <td>179.805566</td>\n",
       "    </tr>\n",
       "  </tbody>\n",
       "</table>\n",
       "</div>"
      ],
      "text/plain": [
       "   athlete_id                  name   sex       born  height  weight  \\\n",
       "0       58758  Hossein Mollaghasemi  Male 1933-03-15   173.0    63.0   \n",
       "1       90217     Enrico Lazzarotto  Male 1973-01-14   178.0    72.0   \n",
       "\n",
       "                     country country_noc  upper_height  lower_height  \\\n",
       "0   Islamic Republic of Iran         IRI         200.0         152.0   \n",
       "1                      Italy         ITA         201.5         157.5   \n",
       "\n",
       "    height_q2  \n",
       "0  176.254157  \n",
       "1  179.805566  "
      ]
     },
     "execution_count": 57,
     "metadata": {},
     "output_type": "execute_result"
    }
   ],
   "source": [
    "OA_m2.head(2)"
   ]
  },
  {
   "cell_type": "markdown",
   "id": "9f6cb65f-fa28-4a4c-ba49-16654139e223",
   "metadata": {},
   "source": [
    "### Función centrar valores atípicos"
   ]
  },
  {
   "cell_type": "code",
   "execution_count": 58,
   "id": "c0309383-b720-4844-95c3-46ec9090307c",
   "metadata": {},
   "outputs": [],
   "source": [
    "def getRealHeight(r):\n",
    "    if ((r[\"height\"] <= r[\"lower_height\"]) | (r[\"height\"] >= r[\"upper_height\"])):\n",
    "        return r[\"height_q2\"]\n",
    "    else:\n",
    "        return r[\"height\"]"
   ]
  },
  {
   "cell_type": "code",
   "execution_count": 59,
   "id": "73de8003-0590-4762-8a3e-c5379d86f1f6",
   "metadata": {},
   "outputs": [],
   "source": [
    "OA_m2[\"height\"] = OA_m2.apply(lambda r: getRealHeight(r), axis = 1)"
   ]
  },
  {
   "cell_type": "code",
   "execution_count": 60,
   "id": "da0f194a-5483-4826-9f29-4c7e47612e94",
   "metadata": {},
   "outputs": [],
   "source": [
    "OA_m2 = OA_m2.loc[:, [\"athlete_id\", \"name\", \"sex\", \"born\", \"height\", \"country\", \"country_noc\"]]"
   ]
  },
  {
   "cell_type": "code",
   "execution_count": 61,
   "id": "95e94a12-6d1b-4b66-ab54-7608f4b1440e",
   "metadata": {},
   "outputs": [
    {
     "data": {
      "text/html": [
       "<div>\n",
       "<style scoped>\n",
       "    .dataframe tbody tr th:only-of-type {\n",
       "        vertical-align: middle;\n",
       "    }\n",
       "\n",
       "    .dataframe tbody tr th {\n",
       "        vertical-align: top;\n",
       "    }\n",
       "\n",
       "    .dataframe thead th {\n",
       "        text-align: right;\n",
       "    }\n",
       "</style>\n",
       "<table border=\"1\" class=\"dataframe\">\n",
       "  <thead>\n",
       "    <tr style=\"text-align: right;\">\n",
       "      <th></th>\n",
       "      <th>athlete_id</th>\n",
       "      <th>name</th>\n",
       "      <th>sex</th>\n",
       "      <th>born</th>\n",
       "      <th>height</th>\n",
       "      <th>country</th>\n",
       "      <th>country_noc</th>\n",
       "    </tr>\n",
       "  </thead>\n",
       "  <tbody>\n",
       "    <tr>\n",
       "      <th>0</th>\n",
       "      <td>58758</td>\n",
       "      <td>Hossein Mollaghasemi</td>\n",
       "      <td>Male</td>\n",
       "      <td>1933-03-15</td>\n",
       "      <td>173.0</td>\n",
       "      <td>Islamic Republic of Iran</td>\n",
       "      <td>IRI</td>\n",
       "    </tr>\n",
       "    <tr>\n",
       "      <th>1</th>\n",
       "      <td>90217</td>\n",
       "      <td>Enrico Lazzarotto</td>\n",
       "      <td>Male</td>\n",
       "      <td>1973-01-14</td>\n",
       "      <td>178.0</td>\n",
       "      <td>Italy</td>\n",
       "      <td>ITA</td>\n",
       "    </tr>\n",
       "  </tbody>\n",
       "</table>\n",
       "</div>"
      ],
      "text/plain": [
       "   athlete_id                  name   sex       born  height  \\\n",
       "0       58758  Hossein Mollaghasemi  Male 1933-03-15   173.0   \n",
       "1       90217     Enrico Lazzarotto  Male 1973-01-14   178.0   \n",
       "\n",
       "                     country country_noc  \n",
       "0   Islamic Republic of Iran         IRI  \n",
       "1                      Italy         ITA  "
      ]
     },
     "execution_count": 61,
     "metadata": {},
     "output_type": "execute_result"
    }
   ],
   "source": [
    "OA_m2.head(2)"
   ]
  },
  {
   "cell_type": "markdown",
   "id": "b650f80c-4dd3-43a8-ab15-f95f39aa9eb4",
   "metadata": {},
   "source": [
    "### Resultado final de análisis de valores atípicos"
   ]
  },
  {
   "cell_type": "code",
   "execution_count": 62,
   "id": "83868c93-e14d-4af0-87b2-f250ce88d058",
   "metadata": {},
   "outputs": [],
   "source": [
    "OA_f = OA_m1.merge(OA_m2, on = [\"athlete_id\", \"name\", \"sex\", \"born\", \"country\", \"country_noc\"], how = \"left\")"
   ]
  },
  {
   "cell_type": "code",
   "execution_count": 63,
   "id": "a7dd8054-1b13-4aa1-9f71-9d9f2cb82712",
   "metadata": {},
   "outputs": [],
   "source": [
    "OA_f = OA_f.loc[:, [\"athlete_id\", \"name\", \"sex\", \"country_noc\", \"born\", \"height\", \"weight\"]]"
   ]
  },
  {
   "cell_type": "markdown",
   "id": "a608956f-cf14-4a41-85e5-44b206b363bf",
   "metadata": {},
   "source": [
    "data set final"
   ]
  },
  {
   "cell_type": "code",
   "execution_count": 64,
   "id": "3eaee16f-ccee-4cb8-9482-3076ea256ed6",
   "metadata": {},
   "outputs": [
    {
     "data": {
      "text/html": [
       "<div>\n",
       "<style scoped>\n",
       "    .dataframe tbody tr th:only-of-type {\n",
       "        vertical-align: middle;\n",
       "    }\n",
       "\n",
       "    .dataframe tbody tr th {\n",
       "        vertical-align: top;\n",
       "    }\n",
       "\n",
       "    .dataframe thead th {\n",
       "        text-align: right;\n",
       "    }\n",
       "</style>\n",
       "<table border=\"1\" class=\"dataframe\">\n",
       "  <thead>\n",
       "    <tr style=\"text-align: right;\">\n",
       "      <th></th>\n",
       "      <th>athlete_id</th>\n",
       "      <th>name</th>\n",
       "      <th>sex</th>\n",
       "      <th>country_noc</th>\n",
       "      <th>born</th>\n",
       "      <th>height</th>\n",
       "      <th>weight</th>\n",
       "    </tr>\n",
       "  </thead>\n",
       "  <tbody>\n",
       "    <tr>\n",
       "      <th>0</th>\n",
       "      <td>58758</td>\n",
       "      <td>Hossein Mollaghasemi</td>\n",
       "      <td>Male</td>\n",
       "      <td>IRI</td>\n",
       "      <td>1933-03-15</td>\n",
       "      <td>173.0</td>\n",
       "      <td>63.0</td>\n",
       "    </tr>\n",
       "    <tr>\n",
       "      <th>1</th>\n",
       "      <td>90217</td>\n",
       "      <td>Enrico Lazzarotto</td>\n",
       "      <td>Male</td>\n",
       "      <td>ITA</td>\n",
       "      <td>1973-01-14</td>\n",
       "      <td>178.0</td>\n",
       "      <td>72.0</td>\n",
       "    </tr>\n",
       "  </tbody>\n",
       "</table>\n",
       "</div>"
      ],
      "text/plain": [
       "   athlete_id                  name   sex country_noc       born  height  \\\n",
       "0       58758  Hossein Mollaghasemi  Male         IRI 1933-03-15   173.0   \n",
       "1       90217     Enrico Lazzarotto  Male         ITA 1973-01-14   178.0   \n",
       "\n",
       "   weight  \n",
       "0    63.0  \n",
       "1    72.0  "
      ]
     },
     "execution_count": 64,
     "metadata": {},
     "output_type": "execute_result"
    }
   ],
   "source": [
    "OA_f.head(2)"
   ]
  },
  {
   "cell_type": "markdown",
   "id": "e45d618d-3f5f-4d30-9d4a-6f0f1e8806ea",
   "metadata": {},
   "source": [
    "pruebas"
   ]
  },
  {
   "cell_type": "code",
   "execution_count": 65,
   "id": "be436ad1-b9e4-4730-8aac-1937413fbc3a",
   "metadata": {},
   "outputs": [],
   "source": [
    "men_f = OA_f.loc[(OA_f[\"sex\"] == \"Male\") & (OA_f[\"country_noc\"].isin([\"MEX\", \"ITA\", \"ESP\"])) , :]"
   ]
  },
  {
   "cell_type": "code",
   "execution_count": 66,
   "id": "0a5ebba2-e9f2-4e45-83a9-debc4bb2fd17",
   "metadata": {},
   "outputs": [
    {
     "data": {
      "text/plain": [
       "<AxesSubplot:xlabel='country_noc', ylabel='weight'>"
      ]
     },
     "execution_count": 66,
     "metadata": {},
     "output_type": "execute_result"
    },
    {
     "data": {
      "image/png": "[encoded data removed]",
      "text/plain": [
       "<Figure size 432x288 with 1 Axes>"
      ]
     },
     "metadata": {
      "needs_background": "light"
     },
     "output_type": "display_data"
    }
   ],
   "source": [
    "sns.boxplot( data=men_f  , x=\"country_noc\" , y=\"weight\" )"
   ]
  },
  {
   "cell_type": "code",
   "execution_count": 67,
   "id": "5762f8f0-31a5-449d-8f70-4945c90bf94f",
   "metadata": {},
   "outputs": [
    {
     "data": {
      "image/png": "[encoded data removed]",
      "text/plain": [
       "<Figure size 432x288 with 1 Axes>"
      ]
     },
     "metadata": {
      "needs_background": "light"
     },
     "output_type": "display_data"
    }
   ],
   "source": [
    "sns.boxplot( data=men_f  , x=\"country_noc\" , y=\"height\" )\n",
    "plt.show()"
   ]
  },
  {
   "cell_type": "code",
   "execution_count": 68,
   "id": "3ab3d5eb-b2b7-4db6-9857-d0da52c6e4ba",
   "metadata": {},
   "outputs": [],
   "source": [
    "woman_f = OA_f.loc[(OA_f[\"sex\"] == \"Female\") & (OA_f[\"country_noc\"].isin([\"MEX\", \"ITA\", \"ESP\"])) , :]"
   ]
  },
  {
   "cell_type": "code",
   "execution_count": 69,
   "id": "f16ce329-6993-4300-9594-262202906f3a",
   "metadata": {},
   "outputs": [
    {
     "data": {
      "image/png": "[encoded data removed]",
      "text/plain": [
       "<Figure size 432x288 with 1 Axes>"
      ]
     },
     "metadata": {
      "needs_background": "light"
     },
     "output_type": "display_data"
    }
   ],
   "source": [
    "sns.boxplot( data=men_f  , x=\"country_noc\" , y=\"weight\" )\n",
    "plt.show()"
   ]
  },
  {
   "cell_type": "code",
   "execution_count": 70,
   "id": "1e03e0f4-9d1e-4b5e-88fb-5a596a893072",
   "metadata": {},
   "outputs": [
    {
     "data": {
      "image/png": "[encoded data removed]",
      "text/plain": [
       "<Figure size 432x288 with 1 Axes>"
      ]
     },
     "metadata": {
      "needs_background": "light"
     },
     "output_type": "display_data"
    }
   ],
   "source": [
    "sns.boxplot( data=men_f  , x=\"country_noc\" , y=\"height\" )\n",
    "plt.show()"
   ]
  },
  {
   "cell_type": "markdown",
   "id": "9d5be725-3149-4dd6-b5b6-854675c123df",
   "metadata": {},
   "source": [
    "### DATASET final sin valores atípicos"
   ]
  },
  {
   "cell_type": "code",
   "execution_count": 71,
   "id": "c29ccdbc-61b8-48ba-8ec7-25a832e5f4ad",
   "metadata": {},
   "outputs": [
    {
     "data": {
      "text/html": [
       "<div>\n",
       "<style scoped>\n",
       "    .dataframe tbody tr th:only-of-type {\n",
       "        vertical-align: middle;\n",
       "    }\n",
       "\n",
       "    .dataframe tbody tr th {\n",
       "        vertical-align: top;\n",
       "    }\n",
       "\n",
       "    .dataframe thead th {\n",
       "        text-align: right;\n",
       "    }\n",
       "</style>\n",
       "<table border=\"1\" class=\"dataframe\">\n",
       "  <thead>\n",
       "    <tr style=\"text-align: right;\">\n",
       "      <th></th>\n",
       "      <th>athlete_id</th>\n",
       "      <th>name</th>\n",
       "      <th>sex</th>\n",
       "      <th>country_noc</th>\n",
       "      <th>born</th>\n",
       "      <th>height</th>\n",
       "      <th>weight</th>\n",
       "    </tr>\n",
       "  </thead>\n",
       "  <tbody>\n",
       "    <tr>\n",
       "      <th>0</th>\n",
       "      <td>58758</td>\n",
       "      <td>Hossein Mollaghasemi</td>\n",
       "      <td>Male</td>\n",
       "      <td>IRI</td>\n",
       "      <td>1933-03-15</td>\n",
       "      <td>173.0</td>\n",
       "      <td>63.0</td>\n",
       "    </tr>\n",
       "    <tr>\n",
       "      <th>1</th>\n",
       "      <td>90217</td>\n",
       "      <td>Enrico Lazzarotto</td>\n",
       "      <td>Male</td>\n",
       "      <td>ITA</td>\n",
       "      <td>1973-01-14</td>\n",
       "      <td>178.0</td>\n",
       "      <td>72.0</td>\n",
       "    </tr>\n",
       "    <tr>\n",
       "      <th>2</th>\n",
       "      <td>74565</td>\n",
       "      <td>John Hou</td>\n",
       "      <td>Male</td>\n",
       "      <td>PNG</td>\n",
       "      <td>1968-09-25</td>\n",
       "      <td>178.0</td>\n",
       "      <td>60.0</td>\n",
       "    </tr>\n",
       "    <tr>\n",
       "      <th>3</th>\n",
       "      <td>134090</td>\n",
       "      <td>Beka Gviniashvili</td>\n",
       "      <td>Male</td>\n",
       "      <td>GEO</td>\n",
       "      <td>1995-10-26</td>\n",
       "      <td>175.0</td>\n",
       "      <td>95.0</td>\n",
       "    </tr>\n",
       "    <tr>\n",
       "      <th>4</th>\n",
       "      <td>69607</td>\n",
       "      <td>Harold Wilson</td>\n",
       "      <td>Male</td>\n",
       "      <td>GBR</td>\n",
       "      <td>1885-01-22</td>\n",
       "      <td>162.0</td>\n",
       "      <td>52.0</td>\n",
       "    </tr>\n",
       "    <tr>\n",
       "      <th>...</th>\n",
       "      <td>...</td>\n",
       "      <td>...</td>\n",
       "      <td>...</td>\n",
       "      <td>...</td>\n",
       "      <td>...</td>\n",
       "      <td>...</td>\n",
       "      <td>...</td>\n",
       "    </tr>\n",
       "    <tr>\n",
       "      <th>104365</th>\n",
       "      <td>126892</td>\n",
       "      <td>Hannah Starling</td>\n",
       "      <td>Female</td>\n",
       "      <td>GBR</td>\n",
       "      <td>1995-06-12</td>\n",
       "      <td>158.0</td>\n",
       "      <td>59.0</td>\n",
       "    </tr>\n",
       "    <tr>\n",
       "      <th>104366</th>\n",
       "      <td>107925</td>\n",
       "      <td>Annett Gamm</td>\n",
       "      <td>Female</td>\n",
       "      <td>GER</td>\n",
       "      <td>1977-05-28</td>\n",
       "      <td>167.0</td>\n",
       "      <td>54.0</td>\n",
       "    </tr>\n",
       "    <tr>\n",
       "      <th>104367</th>\n",
       "      <td>30898</td>\n",
       "      <td>Hermenegildo Candeias</td>\n",
       "      <td>Male</td>\n",
       "      <td>POR</td>\n",
       "      <td>1934-04-17</td>\n",
       "      <td>162.0</td>\n",
       "      <td>55.0</td>\n",
       "    </tr>\n",
       "    <tr>\n",
       "      <th>104368</th>\n",
       "      <td>137209</td>\n",
       "      <td>Brad Hall</td>\n",
       "      <td>Male</td>\n",
       "      <td>GBR</td>\n",
       "      <td>1990-11-16</td>\n",
       "      <td>188.0</td>\n",
       "      <td>100.0</td>\n",
       "    </tr>\n",
       "    <tr>\n",
       "      <th>104369</th>\n",
       "      <td>30727</td>\n",
       "      <td>Armando Valles</td>\n",
       "      <td>Male</td>\n",
       "      <td>MEX</td>\n",
       "      <td>1941-05-06</td>\n",
       "      <td>170.0</td>\n",
       "      <td>68.0</td>\n",
       "    </tr>\n",
       "  </tbody>\n",
       "</table>\n",
       "<p>104370 rows × 7 columns</p>\n",
       "</div>"
      ],
      "text/plain": [
       "        athlete_id                   name     sex country_noc       born  \\\n",
       "0            58758   Hossein Mollaghasemi    Male         IRI 1933-03-15   \n",
       "1            90217      Enrico Lazzarotto    Male         ITA 1973-01-14   \n",
       "2            74565               John Hou    Male         PNG 1968-09-25   \n",
       "3           134090      Beka Gviniashvili    Male         GEO 1995-10-26   \n",
       "4            69607          Harold Wilson    Male         GBR 1885-01-22   \n",
       "...            ...                    ...     ...         ...        ...   \n",
       "104365      126892        Hannah Starling  Female         GBR 1995-06-12   \n",
       "104366      107925            Annett Gamm  Female         GER 1977-05-28   \n",
       "104367       30898  Hermenegildo Candeias    Male         POR 1934-04-17   \n",
       "104368      137209              Brad Hall    Male         GBR 1990-11-16   \n",
       "104369       30727         Armando Valles    Male         MEX 1941-05-06   \n",
       "\n",
       "        height  weight  \n",
       "0        173.0    63.0  \n",
       "1        178.0    72.0  \n",
       "2        178.0    60.0  \n",
       "3        175.0    95.0  \n",
       "4        162.0    52.0  \n",
       "...        ...     ...  \n",
       "104365   158.0    59.0  \n",
       "104366   167.0    54.0  \n",
       "104367   162.0    55.0  \n",
       "104368   188.0   100.0  \n",
       "104369   170.0    68.0  \n",
       "\n",
       "[104370 rows x 7 columns]"
      ]
     },
     "execution_count": 71,
     "metadata": {},
     "output_type": "execute_result"
    }
   ],
   "source": [
    "OA_f"
   ]
  },
  {
   "cell_type": "markdown",
   "id": "9e546671-1586-46b6-9fc6-e48337c0ba41",
   "metadata": {},
   "source": [
    "### Transformaciones"
   ]
  },
  {
   "cell_type": "code",
   "execution_count": 72,
   "id": "a0e716cb-a3cd-46d9-8b0f-cebed0c9b1c2",
   "metadata": {},
   "outputs": [
    {
     "data": {
      "text/plain": [
       "athlete_id              int64\n",
       "name                   object\n",
       "sex                    object\n",
       "country_noc            object\n",
       "born           datetime64[ns]\n",
       "height                float64\n",
       "weight                float64\n",
       "dtype: object"
      ]
     },
     "execution_count": 72,
     "metadata": {},
     "output_type": "execute_result"
    }
   ],
   "source": [
    "OA_f.dtypes"
   ]
  },
  {
   "cell_type": "code",
   "execution_count": 74,
   "id": "98d4a6c2-834a-433e-a36d-781d7ef45be6",
   "metadata": {},
   "outputs": [
    {
     "data": {
      "text/plain": [
       "Index(['athlete_id', 'name', 'sex', 'country_noc', 'born', 'height', 'weight'], dtype='object')"
      ]
     },
     "execution_count": 74,
     "metadata": {},
     "output_type": "execute_result"
    }
   ],
   "source": [
    "OA_f.columns"
   ]
  },
  {
   "cell_type": "code",
   "execution_count": 75,
   "id": "8f973fbf-3f12-4f7d-929d-738e599b1958",
   "metadata": {},
   "outputs": [],
   "source": [
    "OA_n = OA_f.loc[ : , ['athlete_id', 'born', 'height', 'weight']].copy()"
   ]
  },
  {
   "cell_type": "code",
   "execution_count": 76,
   "id": "241036d1-a961-4522-be74-f2e012b710b2",
   "metadata": {},
   "outputs": [
    {
     "data": {
      "text/html": [
       "<div>\n",
       "<style scoped>\n",
       "    .dataframe tbody tr th:only-of-type {\n",
       "        vertical-align: middle;\n",
       "    }\n",
       "\n",
       "    .dataframe tbody tr th {\n",
       "        vertical-align: top;\n",
       "    }\n",
       "\n",
       "    .dataframe thead th {\n",
       "        text-align: right;\n",
       "    }\n",
       "</style>\n",
       "<table border=\"1\" class=\"dataframe\">\n",
       "  <thead>\n",
       "    <tr style=\"text-align: right;\">\n",
       "      <th></th>\n",
       "      <th>athlete_id</th>\n",
       "      <th>born</th>\n",
       "      <th>height</th>\n",
       "      <th>weight</th>\n",
       "    </tr>\n",
       "  </thead>\n",
       "  <tbody>\n",
       "    <tr>\n",
       "      <th>0</th>\n",
       "      <td>58758</td>\n",
       "      <td>1933-03-15</td>\n",
       "      <td>173.0</td>\n",
       "      <td>63.0</td>\n",
       "    </tr>\n",
       "    <tr>\n",
       "      <th>1</th>\n",
       "      <td>90217</td>\n",
       "      <td>1973-01-14</td>\n",
       "      <td>178.0</td>\n",
       "      <td>72.0</td>\n",
       "    </tr>\n",
       "    <tr>\n",
       "      <th>2</th>\n",
       "      <td>74565</td>\n",
       "      <td>1968-09-25</td>\n",
       "      <td>178.0</td>\n",
       "      <td>60.0</td>\n",
       "    </tr>\n",
       "    <tr>\n",
       "      <th>3</th>\n",
       "      <td>134090</td>\n",
       "      <td>1995-10-26</td>\n",
       "      <td>175.0</td>\n",
       "      <td>95.0</td>\n",
       "    </tr>\n",
       "    <tr>\n",
       "      <th>4</th>\n",
       "      <td>69607</td>\n",
       "      <td>1885-01-22</td>\n",
       "      <td>162.0</td>\n",
       "      <td>52.0</td>\n",
       "    </tr>\n",
       "    <tr>\n",
       "      <th>...</th>\n",
       "      <td>...</td>\n",
       "      <td>...</td>\n",
       "      <td>...</td>\n",
       "      <td>...</td>\n",
       "    </tr>\n",
       "    <tr>\n",
       "      <th>104365</th>\n",
       "      <td>126892</td>\n",
       "      <td>1995-06-12</td>\n",
       "      <td>158.0</td>\n",
       "      <td>59.0</td>\n",
       "    </tr>\n",
       "    <tr>\n",
       "      <th>104366</th>\n",
       "      <td>107925</td>\n",
       "      <td>1977-05-28</td>\n",
       "      <td>167.0</td>\n",
       "      <td>54.0</td>\n",
       "    </tr>\n",
       "    <tr>\n",
       "      <th>104367</th>\n",
       "      <td>30898</td>\n",
       "      <td>1934-04-17</td>\n",
       "      <td>162.0</td>\n",
       "      <td>55.0</td>\n",
       "    </tr>\n",
       "    <tr>\n",
       "      <th>104368</th>\n",
       "      <td>137209</td>\n",
       "      <td>1990-11-16</td>\n",
       "      <td>188.0</td>\n",
       "      <td>100.0</td>\n",
       "    </tr>\n",
       "    <tr>\n",
       "      <th>104369</th>\n",
       "      <td>30727</td>\n",
       "      <td>1941-05-06</td>\n",
       "      <td>170.0</td>\n",
       "      <td>68.0</td>\n",
       "    </tr>\n",
       "  </tbody>\n",
       "</table>\n",
       "<p>104370 rows × 4 columns</p>\n",
       "</div>"
      ],
      "text/plain": [
       "        athlete_id       born  height  weight\n",
       "0            58758 1933-03-15   173.0    63.0\n",
       "1            90217 1973-01-14   178.0    72.0\n",
       "2            74565 1968-09-25   178.0    60.0\n",
       "3           134090 1995-10-26   175.0    95.0\n",
       "4            69607 1885-01-22   162.0    52.0\n",
       "...            ...        ...     ...     ...\n",
       "104365      126892 1995-06-12   158.0    59.0\n",
       "104366      107925 1977-05-28   167.0    54.0\n",
       "104367       30898 1934-04-17   162.0    55.0\n",
       "104368      137209 1990-11-16   188.0   100.0\n",
       "104369       30727 1941-05-06   170.0    68.0\n",
       "\n",
       "[104370 rows x 4 columns]"
      ]
     },
     "execution_count": 76,
     "metadata": {},
     "output_type": "execute_result"
    }
   ],
   "source": [
    "OA_n"
   ]
  },
  {
   "cell_type": "markdown",
   "id": "089e43ae-60e1-4912-8314-3b429350cea0",
   "metadata": {},
   "source": [
    "Se hará uso de **height** = altura y **weight** = peso"
   ]
  },
  {
   "cell_type": "code",
   "execution_count": 100,
   "id": "e47f5080-9371-4f26-92d5-0230408cdcc0",
   "metadata": {},
   "outputs": [],
   "source": [
    "x = OA_n[\"height\"]\n",
    "y = OA_n[\"weight\"]"
   ]
  },
  {
   "cell_type": "code",
   "execution_count": 101,
   "id": "3cf37309-a7ef-4482-b9bb-8933c969ed6c",
   "metadata": {},
   "outputs": [
    {
     "data": {
      "image/png": "[encoded data removed]",
      "text/plain": [
       "<Figure size 432x288 with 1 Axes>"
      ]
     },
     "metadata": {
      "needs_background": "light"
     },
     "output_type": "display_data"
    }
   ],
   "source": [
    "plt.scatter(x,y)\n",
    "plt.show()"
   ]
  },
  {
   "cell_type": "markdown",
   "id": "7826554d-e3c9-4d20-9587-b2790bf9eab8",
   "metadata": {
    "tags": []
   },
   "source": [
    "#### Correlaciones\n",
    "\n",
    "> - **R** = 1 las variables tienen una correlación positiva perfecta.  \n",
    "> - **R** = 0 no hay relación lineal entre las variables.  \n",
    "> - **R** = -1 las variables están perfectamente correlacionadas de forma negativa o inversa.  "
   ]
  },
  {
   "cell_type": "code",
   "execution_count": 102,
   "id": "ccdfb80e-0eb7-4d51-a5a0-a083a111cb56",
   "metadata": {},
   "outputs": [
    {
     "data": {
      "text/html": [
       "<div>\n",
       "<style scoped>\n",
       "    .dataframe tbody tr th:only-of-type {\n",
       "        vertical-align: middle;\n",
       "    }\n",
       "\n",
       "    .dataframe tbody tr th {\n",
       "        vertical-align: top;\n",
       "    }\n",
       "\n",
       "    .dataframe thead th {\n",
       "        text-align: right;\n",
       "    }\n",
       "</style>\n",
       "<table border=\"1\" class=\"dataframe\">\n",
       "  <thead>\n",
       "    <tr style=\"text-align: right;\">\n",
       "      <th></th>\n",
       "      <th>athlete_id</th>\n",
       "      <th>height</th>\n",
       "      <th>weight</th>\n",
       "    </tr>\n",
       "  </thead>\n",
       "  <tbody>\n",
       "    <tr>\n",
       "      <th>athlete_id</th>\n",
       "      <td>1.000000</td>\n",
       "      <td>-0.010632</td>\n",
       "      <td>-0.016846</td>\n",
       "    </tr>\n",
       "    <tr>\n",
       "      <th>height</th>\n",
       "      <td>-0.010632</td>\n",
       "      <td>1.000000</td>\n",
       "      <td>0.787670</td>\n",
       "    </tr>\n",
       "    <tr>\n",
       "      <th>weight</th>\n",
       "      <td>-0.016846</td>\n",
       "      <td>0.787670</td>\n",
       "      <td>1.000000</td>\n",
       "    </tr>\n",
       "  </tbody>\n",
       "</table>\n",
       "</div>"
      ],
      "text/plain": [
       "            athlete_id    height    weight\n",
       "athlete_id    1.000000 -0.010632 -0.016846\n",
       "height       -0.010632  1.000000  0.787670\n",
       "weight       -0.016846  0.787670  1.000000"
      ]
     },
     "execution_count": 102,
     "metadata": {},
     "output_type": "execute_result"
    }
   ],
   "source": [
    "OA_n.corr()"
   ]
  },
  {
   "cell_type": "code",
   "execution_count": 95,
   "id": "9d3c4c7e-e53d-4917-912e-d991e84226f4",
   "metadata": {},
   "outputs": [],
   "source": [
    "O = OA_n.corr()"
   ]
  },
  {
   "cell_type": "code",
   "execution_count": 97,
   "id": "801c583a-d00b-4af5-a3e3-09da3b90105a",
   "metadata": {},
   "outputs": [
    {
     "data": {
      "image/png": "[encoded data removed]",
      "text/plain": [
       "<Figure size 288x288 with 1 Axes>"
      ]
     },
     "metadata": {
      "needs_background": "light"
     },
     "output_type": "display_data"
    }
   ],
   "source": [
    "plt.matshow(O)\n",
    "plt.show()"
   ]
  },
  {
   "cell_type": "code",
   "execution_count": 118,
   "id": "1e6a14e7-66ab-437f-a779-95b79a9df955",
   "metadata": {},
   "outputs": [],
   "source": [
    "O[\"heightVSweight\"] = O.apply(lambda r: r[\"weight\"]*2+2/2, axis = 1)"
   ]
  },
  {
   "cell_type": "code",
   "execution_count": 119,
   "id": "7ab337b5-a07a-4259-9bb4-99f57dd52dc2",
   "metadata": {},
   "outputs": [
    {
     "data": {
      "text/html": [
       "<div>\n",
       "<style scoped>\n",
       "    .dataframe tbody tr th:only-of-type {\n",
       "        vertical-align: middle;\n",
       "    }\n",
       "\n",
       "    .dataframe tbody tr th {\n",
       "        vertical-align: top;\n",
       "    }\n",
       "\n",
       "    .dataframe thead th {\n",
       "        text-align: right;\n",
       "    }\n",
       "</style>\n",
       "<table border=\"1\" class=\"dataframe\">\n",
       "  <thead>\n",
       "    <tr style=\"text-align: right;\">\n",
       "      <th></th>\n",
       "      <th>athlete_id</th>\n",
       "      <th>height</th>\n",
       "      <th>weight</th>\n",
       "      <th>heightVSweight</th>\n",
       "    </tr>\n",
       "  </thead>\n",
       "  <tbody>\n",
       "    <tr>\n",
       "      <th>athlete_id</th>\n",
       "      <td>1.000000</td>\n",
       "      <td>-0.010632</td>\n",
       "      <td>-0.016846</td>\n",
       "      <td>0.966308</td>\n",
       "    </tr>\n",
       "    <tr>\n",
       "      <th>height</th>\n",
       "      <td>-0.010632</td>\n",
       "      <td>1.000000</td>\n",
       "      <td>0.787670</td>\n",
       "      <td>2.575339</td>\n",
       "    </tr>\n",
       "    <tr>\n",
       "      <th>weight</th>\n",
       "      <td>-0.016846</td>\n",
       "      <td>0.787670</td>\n",
       "      <td>1.000000</td>\n",
       "      <td>3.000000</td>\n",
       "    </tr>\n",
       "  </tbody>\n",
       "</table>\n",
       "</div>"
      ],
      "text/plain": [
       "            athlete_id    height    weight  heightVSweight\n",
       "athlete_id    1.000000 -0.010632 -0.016846        0.966308\n",
       "height       -0.010632  1.000000  0.787670        2.575339\n",
       "weight       -0.016846  0.787670  1.000000        3.000000"
      ]
     },
     "execution_count": 119,
     "metadata": {},
     "output_type": "execute_result"
    }
   ],
   "source": [
    "O"
   ]
  },
  {
   "cell_type": "code",
   "execution_count": null,
   "id": "ab3baa0f-95e4-4b39-b24c-35534882c995",
   "metadata": {},
   "outputs": [],
   "source": []
  },
  {
   "cell_type": "markdown",
   "id": "58999897-ebb2-41e8-b28f-cc0a9aafdc2d",
   "metadata": {},
   "source": [
    "## ML no supervisado"
   ]
  },
  {
   "cell_type": "code",
   "execution_count": null,
   "id": "5252d4d4-53fa-4fb0-bd00-8a30d7a4f16b",
   "metadata": {},
   "outputs": [],
   "source": []
  }
 ],
 "metadata": {
  "kernelspec": {
   "display_name": "Python 3 (ipykernel)",
   "language": "python",
   "name": "python3"
  },
  "language_info": {
   "codemirror_mode": {
    "name": "ipython",
    "version": 3
   },
   "file_extension": ".py",
   "mimetype": "text/x-python",
   "name": "python",
   "nbconvert_exporter": "python",
   "pygments_lexer": "ipython3",
   "version": "3.9.12"
  }
 },
 "nbformat": 4,
 "nbformat_minor": 5
}
